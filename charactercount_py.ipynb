{
  "nbformat": 4,
  "nbformat_minor": 0,
  "metadata": {
    "colab": {
      "name": "charactercount.py",
      "provenance": [],
      "authorship_tag": "ABX9TyP0fYwJP14mo7ROnZ++J9tz",
      "include_colab_link": true
    },
    "kernelspec": {
      "name": "python3",
      "display_name": "Python 3"
    },
    "language_info": {
      "name": "python"
    }
  },
  "cells": [
    {
      "cell_type": "markdown",
      "metadata": {
        "id": "view-in-github",
        "colab_type": "text"
      },
      "source": [
        "<a href=\"https://colab.research.google.com/github/ElroiGeek/Python/blob/main/charactercount_py.ipynb\" target=\"_parent\"><img src=\"https://colab.research.google.com/assets/colab-badge.svg\" alt=\"Open In Colab\"/></a>"
      ]
    },
    {
      "cell_type": "code",
      "metadata": {
        "colab": {
          "base_uri": "https://localhost:8080/"
        },
        "id": "APZFLgDGjs_B",
        "outputId": "9d8188ef-6380-43ad-815f-922272f2cae6"
      },
      "source": [
        "word = input(\"enter a word \")\n",
        "count = len(word)\n",
        "print(\"the number of characters in the word is \", count)"
      ],
      "execution_count": 26,
      "outputs": [
        {
          "output_type": "stream",
          "text": [
            "enter a word word\n",
            "the number of characters in the word is  4\n"
          ],
          "name": "stdout"
        }
      ]
    },
    {
      "cell_type": "code",
      "metadata": {
        "id": "aD0rXwwEeMQt"
      },
      "source": [
        ""
      ],
      "execution_count": null,
      "outputs": []
    },
    {
      "cell_type": "markdown",
      "metadata": {
        "id": "iWNzRs1TeKd6"
      },
      "source": [
        ""
      ]
    }
  ]
}