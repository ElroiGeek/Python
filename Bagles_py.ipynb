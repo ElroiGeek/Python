{
  "nbformat": 4,
  "nbformat_minor": 0,
  "metadata": {
    "colab": {
      "name": "Bagles.py",
      "provenance": [],
      "authorship_tag": "ABX9TyP/qIAgyPUHvqPhtq4a1AD6",
      "include_colab_link": true
    },
    "kernelspec": {
      "name": "python3",
      "display_name": "Python 3"
    },
    "language_info": {
      "name": "python"
    }
  },
  "cells": [
    {
      "cell_type": "markdown",
      "metadata": {
        "id": "view-in-github",
        "colab_type": "text"
      },
      "source": [
        "<a href=\"https://colab.research.google.com/github/ElroiGeek/Python/blob/main/Bagles_py.ipynb\" target=\"_parent\"><img src=\"https://colab.research.google.com/assets/colab-badge.svg\" alt=\"Open In Colab\"/></a>"
      ]
    },
    {
      "cell_type": "code",
      "metadata": {
        "id": "3Zqx6FBCc4nt"
      },
      "source": [
        "import random\n",
        "NUM_DIGITS = 3\n",
        "MAX_GUESSES = 10\n",
        "\n",
        "def main():\n",
        "\n",
        "    print('''Bagels, a deductive logic game.\n",
        "By Elroi A.\n",
        "I am thinking of a {}-digit number with no repeated digits.\n",
        "Try to guess what it is. Here are some clues:\n",
        "When I say: That means:\n",
        "Pico One digit is correct but in the wrong position.\n",
        "Fermi One digit is correct and in the right position.\n",
        "Bagels No digit is correct.\n",
        "For example, if the secret number was 248 and your guess was 843, the\n",
        "clues would be Fermi Pico.'''.format(NUM_DIGITS))\n",
        "    while True:\n",
        "      secretNum = getSecretNum()\n",
        "      print(\"I have thought of a number\")\n",
        "      print(\" You have {} guesses to get it. \" .format(MAX_GUESSES))\n",
        "\n",
        "      numGuesses = 1\n",
        "      while numGuesses <= MAX_GUESSES:\n",
        "        guess = ''\n",
        "        while len(guess) != NUM_DIGITS or not guess.isdecimal():\n",
        "          print(\"Guess #{}: \" .format(numGuesses))\n",
        "          guess = input(\"> \")\n",
        "        clues = getClues(guess, secretNum)\n",
        "        print(clues)\n",
        "        numGuesses += 1\n",
        "\n",
        "        if guess == secretNum:\n",
        "            break\n",
        "        if numGuesses > MAX_GUESSES:\n",
        "            print(\"You ran out of guess\")\n",
        "            print(\"The answer was {}. \" .format(secretNum))\n",
        "            print(\"Do you want to play again? (yes or no)\")\n",
        "            if not(\"> \").lower().startswith(\"y\"):\n",
        "              break\n",
        "        print(\"Thanks for playing\")\n",
        "\n",
        "def getSecretNum():\n",
        "    numbers = list(\"0123456789\")\n",
        "    random.shuffle(numbers)\n",
        "    secretNum = \"\"\n",
        "    for i in range(NUM_DIGITS):\n",
        "        secretNum += str(numbers[i])\n",
        "    return secretNum\n",
        "\n",
        "\n",
        "def getClues(guess, secretNum):\n",
        "    if guess == secretNum:\n",
        "       return \"You got it\"\n",
        "\n",
        "    clues = []\n",
        "\n",
        "    for i in range(len(guess)):\n",
        "        if guess[i] == secretNum[i]:\n",
        "            clues.append(\"Fermi\")\n",
        "        elif guess[i] in secretNum:\n",
        "            clues.append(\"Pico\")\n",
        "    if len(clues) == 0:\n",
        "            return \"Bagles\"\n",
        "    else:\n",
        "        clues.sort\n",
        "        return \" \".join(clues)\n",
        "if __name__ == \"__main__\": \n",
        "    main()"
      ],
      "execution_count": null,
      "outputs": []
    }
  ]
}