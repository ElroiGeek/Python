{
  "nbformat": 4,
  "nbformat_minor": 0,
  "metadata": {
    "colab": {
      "name": "Word Count",
      "provenance": [],
      "authorship_tag": "ABX9TyOrOJSkTF3YlESXNv+jpAjb",
      "include_colab_link": true
    },
    "kernelspec": {
      "name": "python3",
      "display_name": "Python 3"
    },
    "language_info": {
      "name": "python"
    }
  },
  "cells": [
    {
      "cell_type": "markdown",
      "metadata": {
        "id": "view-in-github",
        "colab_type": "text"
      },
      "source": [
        "<a href=\"https://colab.research.google.com/github/ElroiGeek/Python/blob/main/Word_Count.ipynb\" target=\"_parent\"><img src=\"https://colab.research.google.com/assets/colab-badge.svg\" alt=\"Open In Colab\"/></a>"
      ]
    },
    {
      "cell_type": "code",
      "metadata": {
        "colab": {
          "base_uri": "https://localhost:8080/"
        },
        "id": "APZFLgDGjs_B",
        "outputId": "1dc8a0fb-207a-4613-d8af-521252dff3fd"
      },
      "source": [
        "ask = input(\"What's on your mind today \")\n",
        "words = len(ask.split())\n",
        "\n",
        "print(\"The number of words in that sentence is \", words)"
      ],
      "execution_count": 24,
      "outputs": [
        {
          "output_type": "stream",
          "text": [
            "What's on your mind today elroi is the best\n",
            "The number of words in that sentence is  4\n"
          ],
          "name": "stdout"
        }
      ]
    }
  ]
}